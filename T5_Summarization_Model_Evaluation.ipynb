{
  "nbformat": 4,
  "nbformat_minor": 0,
  "metadata": {
    "colab": {
      "provenance": [],
      "gpuType": "T4",
      "machine_shape": "hm"
    },
    "kernelspec": {
      "name": "python3",
      "display_name": "Python 3"
    },
    "language_info": {
      "name": "python"
    },
    "accelerator": "GPU"
  },
  "cells": [
    {
      "cell_type": "code",
      "execution_count": null,
      "metadata": {
        "id": "c46OoFpdVIpo"
      },
      "outputs": [],
      "source": [
        "!pip install transformers==4.20.0\n",
        "!pip install keras_nlp==0.3.0\n",
        "!pip install datasets\n",
        "!pip install huggingface-hub\n",
        "!pip install nltk\n",
        "!pip install rouge-score\n"
      ]
    },
    {
      "cell_type": "code",
      "source": [
        "import os\n",
        "import logging\n",
        "\n",
        "import nltk\n",
        "import numpy as np\n",
        "import tensorflow as tf\n",
        "from tensorflow import keras\n",
        "\n",
        "# Only log error messages\n",
        "tf.get_logger().setLevel(logging.ERROR)\n",
        "\n",
        "os.environ[\"TOKENIZERS_PARALLELISM\"] = \"false\""
      ],
      "metadata": {
        "id": "RC2ugkOUWRNl"
      },
      "execution_count": 2,
      "outputs": []
    },
    {
      "cell_type": "code",
      "source": [
        "import keras_nlp"
      ],
      "metadata": {
        "id": "1xXsMTNCWVAo"
      },
      "execution_count": 3,
      "outputs": []
    },
    {
      "cell_type": "code",
      "source": [
        "from transformers import AutoTokenizer\n",
        "from transformers import TFAutoModelForSeq2SeqLM, DataCollatorForSeq2Seq"
      ],
      "metadata": {
        "id": "vh2xOcHRWVhf"
      },
      "execution_count": 4,
      "outputs": []
    },
    {
      "cell_type": "code",
      "source": [
        "from datasets  import load_dataset"
      ],
      "metadata": {
        "id": "HuTpRzU3WXuh"
      },
      "execution_count": 5,
      "outputs": []
    },
    {
      "cell_type": "code",
      "source": [
        "model_path = \"t5-small\"\n",
        "data_path = \"cnn_dailymail\"\n",
        "\n"
      ],
      "metadata": {
        "id": "iBfhSO4VWaXc"
      },
      "execution_count": 6,
      "outputs": []
    },
    {
      "cell_type": "code",
      "source": [
        "dataset = load_dataset(data_path, '3.0.0', split='train')"
      ],
      "metadata": {
        "id": "AoTPQawiWr6Y"
      },
      "execution_count": null,
      "outputs": []
    },
    {
      "cell_type": "code",
      "source": [
        "subset_dataset = dataset.select(range(300))"
      ],
      "metadata": {
        "id": "pDoKOSyfHgru"
      },
      "execution_count": 8,
      "outputs": []
    },
    {
      "cell_type": "code",
      "source": [
        "tokenizer = AutoTokenizer.from_pretrained(model_path)"
      ],
      "metadata": {
        "id": "Zt0wX0e2Yx77"
      },
      "execution_count": null,
      "outputs": []
    },
    {
      "cell_type": "code",
      "source": [
        "tokenizer(subset_dataset['article'][1], truncation=True ,return_tensors='tf')"
      ],
      "metadata": {
        "id": "Tr-1s2HVYyZs"
      },
      "execution_count": null,
      "outputs": []
    },
    {
      "cell_type": "code",
      "source": [
        "final_dataset = subset_dataset.train_test_split(\n",
        "    train_size=0.75, test_size=0.25\n",
        ")"
      ],
      "metadata": {
        "id": "aiLMajR4Y1sf"
      },
      "execution_count": 12,
      "outputs": []
    },
    {
      "cell_type": "code",
      "source": [
        "def tokenization(examples):\n",
        "    inputs = [doc for doc in examples[\"article\"]]\n",
        "    targets = [summary for summary in examples[\"highlights\"]]\n",
        "    model_inputs = tokenizer(inputs, max_length=400, truncation=True, padding='max_length')\n",
        "\n",
        "    # Setup the tokenizer for targets\n",
        "    with tokenizer.as_target_tokenizer():\n",
        "        labels = tokenizer(targets, max_length=100, truncation=True, padding='max_length')\n",
        "\n",
        "    model_inputs['labels'] = labels['input_ids']\n",
        "    return model_inputs\n"
      ],
      "metadata": {
        "id": "0eYBnSgMZF4_"
      },
      "execution_count": 13,
      "outputs": []
    },
    {
      "cell_type": "code",
      "source": [
        "tokenized_dataset = final_dataset.map(tokenization, batched=True)"
      ],
      "metadata": {
        "id": "FEeEJ_4aZP8p"
      },
      "execution_count": null,
      "outputs": []
    },
    {
      "cell_type": "code",
      "source": [
        "processed_data = tokenized_dataset.remove_columns(['article','highlights', 'id'])"
      ],
      "metadata": {
        "id": "rG10tlkRbCHe"
      },
      "execution_count": 15,
      "outputs": []
    },
    {
      "cell_type": "code",
      "source": [
        "model = TFAutoModelForSeq2SeqLM.from_pretrained(model_path)"
      ],
      "metadata": {
        "id": "9deU8urHbJk6"
      },
      "execution_count": null,
      "outputs": []
    },
    {
      "cell_type": "code",
      "source": [
        "data_collator = DataCollatorForSeq2Seq(tokenizer=tokenizer, model= model, return_tensors=\"tf\")"
      ],
      "metadata": {
        "id": "hA-bPTspbNSx"
      },
      "execution_count": 17,
      "outputs": []
    },
    {
      "cell_type": "code",
      "source": [
        "train_dataset = model.prepare_tf_dataset(processed_data['train'], batch_size=16, tokenizer= tokenizer, collate_fn=data_collator, shuffle=True, drop_remainder=True)"
      ],
      "metadata": {
        "id": "Fj9FtjdEbSpF"
      },
      "execution_count": null,
      "outputs": []
    },
    {
      "cell_type": "code",
      "source": [
        "test_dataset = model.prepare_tf_dataset(processed_data['test'], batch_size=16, tokenizer= tokenizer, collate_fn=data_collator, shuffle=False, drop_remainder=True)"
      ],
      "metadata": {
        "id": "WWLqr5ElbVUe"
      },
      "execution_count": 19,
      "outputs": []
    },
    {
      "cell_type": "code",
      "source": [
        "optimizer = keras.optimizers.Adam(learning_rate=2e-5)\n",
        "model.compile(optimizer=optimizer)"
      ],
      "metadata": {
        "colab": {
          "base_uri": "https://localhost:8080/",
          "height": 0
        },
        "id": "YVAFItu1bX5T",
        "outputId": "9a8bedd1-abfa-4291-8be6-fb5605947ccf"
      },
      "execution_count": 20,
      "outputs": [
        {
          "output_type": "stream",
          "name": "stderr",
          "text": [
            "No loss specified in compile() - the model's internal loss computation will be used as the loss. Don't panic - this is a common way to train TensorFlow models in Transformers! To disable this behaviour please pass a loss argument, or explicitly pass `loss=None` if you do not want your model to compute a loss.\n"
          ]
        }
      ]
    },
    {
      "cell_type": "code",
      "source": [
        "rouge_l = keras_nlp.metrics.RougeL()"
      ],
      "metadata": {
        "id": "51r2Vr5AbZa6"
      },
      "execution_count": 21,
      "outputs": []
    },
    {
      "cell_type": "code",
      "source": [
        "results_storage = []\n",
        "def metric_fn(eval_predictions):\n",
        "    predictions, labels = eval_predictions\n",
        "    decoded_predictions = tokenizer.batch_decode(predictions, skip_special_tokens=True)\n",
        "    for label in labels:\n",
        "        label[label < 0] = tokenizer.pad_token_id  # Replace masked label tokens\n",
        "    decoded_labels = tokenizer.batch_decode(labels, skip_special_tokens=True)\n",
        "    result = rouge_l(decoded_labels, decoded_predictions)\n",
        "    result = {\"RougeL\": result[\"f1_score\"]}\n",
        "    results_storage.append(result)\n",
        "    return result"
      ],
      "metadata": {
        "id": "NXUHoJBsbcpB"
      },
      "execution_count": 57,
      "outputs": []
    },
    {
      "cell_type": "code",
      "source": [
        "from transformers.keras_callbacks import KerasMetricCallback\n",
        "\n",
        "metric_callback = KerasMetricCallback(\n",
        "    metric_fn, eval_dataset=test_dataset)\n"
      ],
      "metadata": {
        "id": "u9M11vs3bfll"
      },
      "execution_count": 58,
      "outputs": []
    },
    {
      "cell_type": "code",
      "source": [
        "callbacks = [metric_callback]"
      ],
      "metadata": {
        "id": "NRMYnIL2bhN3"
      },
      "execution_count": 59,
      "outputs": []
    },
    {
      "cell_type": "code",
      "source": [
        "model.evaluate(test_dataset, callbacks=[metric_callback])"
      ],
      "metadata": {
        "colab": {
          "base_uri": "https://localhost:8080/"
        },
        "id": "sU0WFpFOpJr3",
        "outputId": "de13ca96-bf0e-45a2-c3ab-4790ecacb2f8"
      },
      "execution_count": 60,
      "outputs": [
        {
          "output_type": "stream",
          "name": "stdout",
          "text": [
            "4/4 [==============================] - 12s 3s/step - loss: 8.9025 - accuracy: 0.3764\n"
          ]
        },
        {
          "output_type": "execute_result",
          "data": {
            "text/plain": [
              "[8.90249252319336, 0.3764062523841858]"
            ]
          },
          "metadata": {},
          "execution_count": 60
        }
      ]
    },
    {
      "cell_type": "code",
      "source": [
        "#model.fit(train_dataset, validation_data=test_dataset, epochs=1, verbose=True)"
      ],
      "metadata": {
        "id": "FT97qVFzbi8N"
      },
      "execution_count": 36,
      "outputs": []
    },
    {
      "cell_type": "code",
      "source": [
        "loss_function = tf.keras.losses.SparseCategoricalCrossentropy(from_logits=True)\n"
      ],
      "metadata": {
        "id": "j0_j8TJPLJue"
      },
      "execution_count": 33,
      "outputs": []
    },
    {
      "cell_type": "code",
      "source": [
        "metrics = ['accuracy']\n",
        "model.compile(optimizer=optimizer, loss=loss_function, metrics=metrics, run_eagerly=True)"
      ],
      "metadata": {
        "id": "dHGE6yxYblAK"
      },
      "execution_count": 34,
      "outputs": []
    },
    {
      "cell_type": "code",
      "source": [
        "model.save_weights('summarized_model')"
      ],
      "metadata": {
        "id": "o4eErStgLwXn"
      },
      "execution_count": 35,
      "outputs": []
    },
    {
      "cell_type": "code",
      "source": [
        "!pip install rouge-score"
      ],
      "metadata": {
        "id": "qjKkc_SymdtE"
      },
      "execution_count": null,
      "outputs": []
    },
    {
      "cell_type": "code",
      "source": [
        "from transformers import pipeline"
      ],
      "metadata": {
        "id": "ShPRmZUgLx-w"
      },
      "execution_count": null,
      "outputs": []
    },
    {
      "cell_type": "code",
      "source": [
        "pipe = pipeline(\"summarization\", model=model, tokenizer=tokenizer, framework=\"tf\")"
      ],
      "metadata": {
        "id": "PQDnDlqvL1CE"
      },
      "execution_count": null,
      "outputs": []
    },
    {
      "cell_type": "code",
      "source": [
        "subset_dataset[12]"
      ],
      "metadata": {
        "colab": {
          "base_uri": "https://localhost:8080/"
        },
        "id": "5nSPd6owL3LI",
        "outputId": "465234d6-3d4e-496c-b1be-2fa2cdfde6f2"
      },
      "execution_count": null,
      "outputs": [
        {
          "output_type": "execute_result",
          "data": {
            "text/plain": [
              "{'article': 'BREMEN, Germany -- Carlos Alberto, who scored in FC Porto\\'s Champions League final victory against Monaco in 2004, has joined Bundesliga club Werder Bremen for a club record fee of  7.8 million euros ($10.7 million). Carlos Alberto enjoyed success at FC Porto under Jose Mourinho. \"I\\'m here to win titles with Werder,\" the 22-year-old said after his first training session with his new club. \"I like Bremen and would only have wanted to come here.\" Carlos Alberto started his career with Fluminense, and helped them to lift the Campeonato Carioca in 2002. In January 2004 he moved on to FC Porto, who were coached by José Mourinho, and the club won the Portuguese title as well as the Champions League. Early in 2005, he moved to Corinthians, where he impressed as they won the Brasileirão,but in 2006 Corinthians had a poor season and Carlos Alberto found himself at odds with manager, Emerson Leão. Their poor relationship came to a climax at a Copa Sul-Americana game against Club Atlético Lanús, and Carlos Alberto declared that he would not play for Corinthians again while Leão remained as manager. Since January this year he has been on loan with his first club Fluminense. Bundesliga champions VfB Stuttgart said on Sunday that they would sign a loan agreement with Real Zaragoza on Monday for Ewerthon, the third top Brazilian player to join the German league in three days. A VfB spokesman said Ewerthon, who played in the Bundesliga for Borussia Dortmund from 2001 to 2005, was expected to join the club for their pre-season training in Austria on Monday. On Friday, Ailton returned to Germany where he was the league\\'s top scorer in 2004, signing a one-year deal with Duisburg on a transfer from Red Star Belgrade. E-mail to a friend .',\n",
              " 'highlights': 'Werder Bremen pay a club record $10.7 million for Carlos Alberto .\\nThe Brazilian midfielder won the Champions League with FC Porto in 2004 .\\nSince January he has been on loan with his first club, Fluminense .',\n",
              " 'id': '77d7c8cf2a9432e395d629371a12790c563c19f7'}"
            ]
          },
          "metadata": {},
          "execution_count": 34
        }
      ]
    },
    {
      "cell_type": "code",
      "source": [
        "pipe(subset_dataset['article'][12])"
      ],
      "metadata": {
        "colab": {
          "base_uri": "https://localhost:8080/"
        },
        "id": "XB4rgIvnL9tv",
        "outputId": "106bc482-5174-4297-d993-3fb2378fd19f"
      },
      "execution_count": null,
      "outputs": [
        {
          "output_type": "execute_result",
          "data": {
            "text/plain": [
              "[{'summary_text': \"Carlos Alberto joins Werder Bremen for a club record fee of 7.8 million euros ($10.7 million) the 22-year-old scored in FC Porto's champions league final victory against Monaco in 2004 . he started his career with fluminense and helped them lift the Campeonato Carioca in 2002 .\"}]"
            ]
          },
          "metadata": {},
          "execution_count": 35
        }
      ]
    },
    {
      "cell_type": "code",
      "source": [
        "pipe(\"\"\"WASHINGTON -LRB- CNN -RRB- -- The U.S. Navy arrested nine more suspected pirates off the coast of Somalia Thursday -- the second capture in two days -- after receiving a distress call from an Indian-flagged commercial ship . Suspected pirates are arrested in the Gulf of Aden . According to the Navy announcement , at 4 a.m. local time the Indian-flagged Premdivya sent a distress call to all ships in the area reporting that she had been fired upon by a small skiff , and suspected pirates were attempting to board it . A U.S. Navy helicopter crew was launched from the USS Vella Gulf and fired two warning shots at the small boat to get them to stop . A Navy boarding team was then launched to investigate the skiff 's crew and found rocket-propelled grenades and other weapons on board the small craft , according to Navy officials . The suspected pirates were taken aboard the USS Vella Gulf and processed . They 'll be moved to a temporary holding facility aboard the larger USNS Lewis and Clark , according to the statement . The Navy is now holding a total of 16 suspected pirates while the U.S. and Kenyan governments work out legal details on how the suspects will be moved to Kenya for prosecution . Last month , the United States and Kenya signed an agreement saying that suspected pirates captured by U.S. ships will be moved to Kenya to be tried for their crimes . The capture Wednesday of seven suspected pirates marks the first time the United States was able to capture and hold pirates since its forces began patrolling the dangerous waters off Somalia . Piracy has become a chronic problem off the Horn of Africa in recent years , with some pirates operating from largely lawless Somalia . Pirates attacked nearly 100 vessels and hijacked as many as 40 in the waters off the coast of Somalia in 2008 , according to the International Maritime Bureau . The task force led by the Vella Gulf was set up in January in an effort to clamp down on the attacks in the region , the southern approach to the Red Sea and the Suez Canal .\"\"\")\n"
      ],
      "metadata": {
        "colab": {
          "base_uri": "https://localhost:8080/"
        },
        "id": "KVW-ii2mOi0W",
        "outputId": "d467a728-e818-4fb8-befd-2aa2b8e275e4"
      },
      "execution_count": null,
      "outputs": [
        {
          "output_type": "execute_result",
          "data": {
            "text/plain": [
              "[{'summary_text': 'nine more suspected pirates are arrested in the Gulf of Aden . a distress call from an Indian-flagged commercial ship was sent to all ships in the area . the navy is holding a total of 16 suspects while the united states and Kenya work out legal details .'}]"
            ]
          },
          "metadata": {},
          "execution_count": 36
        }
      ]
    }
  ]
}